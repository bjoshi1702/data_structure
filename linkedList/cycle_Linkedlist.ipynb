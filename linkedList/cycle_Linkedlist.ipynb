{
 "cells": [
  {
   "cell_type": "code",
   "execution_count": 118,
   "metadata": {},
   "outputs": [],
   "source": [
    "class Node:\n",
    "    def __init__(self, value):\n",
    "        self.next = None\n",
    "        self.value = value\n",
    "    \n",
    "class singlyList:\n",
    "    def __init__(self):\n",
    "        self.head = None\n",
    "        \n",
    "    def insertBack(self, val):\n",
    "        node = Node(val)\n",
    "        currentPointer = self.head\n",
    "        if self.head == None:\n",
    "            self.head = node\n",
    "        else:\n",
    "            while currentPointer.next != None:\n",
    "                currentPointer = currentPointer.next\n",
    "            currentPointer.next = node\n",
    "    def deleteBack(self):\n",
    "        currentP = self.head\n",
    "        if self.head == None:\n",
    "            print 'no node in list'\n",
    "        else:\n",
    "            if self.head.next == None:\n",
    "                self.head = None\n",
    "            else:\n",
    "                while currentP.next.next != None:\n",
    "                    currentP = currentP.next\n",
    "                currentP.next = None   \n",
    "            \n",
    "    def printList(self):\n",
    "        pointer = self.head\n",
    "        if self.head == None:\n",
    "            print 'list is empty'\n",
    "        else:\n",
    "            while pointer != None:\n",
    "                print pointer.value\n",
    "                pointer = pointer.next"
   ]
  },
  {
   "cell_type": "code",
   "execution_count": null,
   "metadata": {},
   "outputs": [],
   "source": []
  },
  {
   "cell_type": "code",
   "execution_count": 119,
   "metadata": {},
   "outputs": [],
   "source": [
    "s = singlyList()"
   ]
  },
  {
   "cell_type": "code",
   "execution_count": 120,
   "metadata": {},
   "outputs": [
    {
     "name": "stdout",
     "output_type": "stream",
     "text": [
      "1\n",
      "2\n",
      "3\n",
      "4\n",
      "5\n",
      "6\n",
      "7\n",
      "8\n"
     ]
    }
   ],
   "source": [
    "s.insertBack(1)\n",
    "s.insertBack(2)\n",
    "s.insertBack(3)\n",
    "s.insertBack(4)\n",
    "s.insertBack(5)\n",
    "s.insertBack(6)\n",
    "s.insertBack(7)\n",
    "s.insertBack(8)\n",
    "s.printList()"
   ]
  },
  {
   "cell_type": "code",
   "execution_count": 130,
   "metadata": {},
   "outputs": [],
   "source": [
    "cur = s.head\n",
    "\n",
    "\n",
    "i = 0\n",
    "while i<5:\n",
    "    cur = cur.next\n",
    "    i += 1\n",
    "\n",
    "cur.next = s.head.next.next"
   ]
  },
  {
   "cell_type": "code",
   "execution_count": 131,
   "metadata": {},
   "outputs": [],
   "source": [
    "def loopDetection(ll):\n",
    "    slow = ll.head\n",
    "    fast = ll.head\n",
    "    while fast != None and fast.next != None:\n",
    "        print 'here'\n",
    "        slow = slow.next\n",
    "        fast = fast.next.next\n",
    "        if fast == slow:\n",
    "            break\n",
    "    slow = ll.head\n",
    "    while slow != fast:\n",
    "        slow = slow.next\n",
    "        fast = fast.next\n",
    "    return slow.value"
   ]
  },
  {
   "cell_type": "code",
   "execution_count": 132,
   "metadata": {},
   "outputs": [
    {
     "name": "stdout",
     "output_type": "stream",
     "text": [
      "here\n",
      "here\n",
      "here\n",
      "here\n"
     ]
    },
    {
     "data": {
      "text/plain": [
       "3"
      ]
     },
     "execution_count": 132,
     "metadata": {},
     "output_type": "execute_result"
    }
   ],
   "source": [
    "loopDetection(s)"
   ]
  },
  {
   "cell_type": "code",
   "execution_count": null,
   "metadata": {},
   "outputs": [],
   "source": []
  }
 ],
 "metadata": {
  "kernelspec": {
   "display_name": "py2",
   "language": "python",
   "name": "py2"
  },
  "language_info": {
   "codemirror_mode": {
    "name": "ipython",
    "version": 2
   },
   "file_extension": ".py",
   "mimetype": "text/x-python",
   "name": "python",
   "nbconvert_exporter": "python",
   "pygments_lexer": "ipython2",
   "version": "2.7.15"
  }
 },
 "nbformat": 4,
 "nbformat_minor": 2
}
