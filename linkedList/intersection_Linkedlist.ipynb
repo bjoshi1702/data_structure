{
 "cells": [
  {
   "cell_type": "code",
   "execution_count": 87,
   "metadata": {},
   "outputs": [],
   "source": [
    "class Node:\n",
    "    def __init__(self, value):\n",
    "        self.next = None\n",
    "        self.value = value\n",
    "    \n",
    "class singlyList:\n",
    "    def __init__(self):\n",
    "        self.head = None\n",
    "        \n",
    "    def insertBack(self, val):\n",
    "        node = Node(val)\n",
    "        currentPointer = self.head\n",
    "        if self.head == None:\n",
    "            self.head = node\n",
    "        else:\n",
    "            while currentPointer.next != None:\n",
    "                currentPointer = currentPointer.next\n",
    "            currentPointer.next = node\n",
    "    def deleteBack(self):\n",
    "        currentP = self.head\n",
    "        if self.head == None:\n",
    "            print 'no node in list'\n",
    "        else:\n",
    "            if self.head.next == None:\n",
    "                self.head = None\n",
    "            else:\n",
    "                while currentP.next.next != None:\n",
    "                    currentP = currentP.next\n",
    "                currentP.next = None   \n",
    "            \n",
    "    def printList(self):\n",
    "        pointer = self.head\n",
    "        if self.head == None:\n",
    "            print 'list is empty'\n",
    "        else:\n",
    "            while pointer != None:\n",
    "                print pointer.value\n",
    "                pointer = pointer.next"
   ]
  },
  {
   "cell_type": "code",
   "execution_count": 112,
   "metadata": {},
   "outputs": [],
   "source": [
    "def intersection(l1, l2):\n",
    "    pointer1 = l1.head\n",
    "    pointer2 = l2.head\n",
    "    d = dict()\n",
    "    while pointer1.next != None or pointer2.next != None:\n",
    "        if pointer1 not in d:\n",
    "            d[pointer1] = pointer1.value\n",
    "            pointer1 = pointer1.next\n",
    "        else:\n",
    "            return pointer1.value\n",
    "        if pointer2 not in d:\n",
    "            d[pointer2] = pointer2.value\n",
    "            pointer2 = pointer2.next\n",
    "        else:\n",
    "            return pointer2.value\n",
    "        "
   ]
  },
  {
   "cell_type": "code",
   "execution_count": 100,
   "metadata": {},
   "outputs": [],
   "source": [
    "s1 = singlyList()"
   ]
  },
  {
   "cell_type": "code",
   "execution_count": 101,
   "metadata": {},
   "outputs": [],
   "source": [
    "s2 = singlyList()"
   ]
  },
  {
   "cell_type": "code",
   "execution_count": 102,
   "metadata": {},
   "outputs": [],
   "source": [
    "s1.insertBack(3)"
   ]
  },
  {
   "cell_type": "code",
   "execution_count": 103,
   "metadata": {},
   "outputs": [],
   "source": [
    "s1.insertBack(1)\n",
    "s1.insertBack(5)\n",
    "s1.insertBack(9)\n",
    "s1.insertBack(7)\n",
    "s1.insertBack(2)\n",
    "s1.insertBack(1)"
   ]
  },
  {
   "cell_type": "code",
   "execution_count": 104,
   "metadata": {},
   "outputs": [
    {
     "name": "stdout",
     "output_type": "stream",
     "text": [
      "3\n",
      "1\n",
      "5\n",
      "9\n",
      "7\n",
      "2\n",
      "1\n"
     ]
    }
   ],
   "source": [
    "s1.printList()"
   ]
  },
  {
   "cell_type": "code",
   "execution_count": 105,
   "metadata": {},
   "outputs": [
    {
     "name": "stdout",
     "output_type": "stream",
     "text": [
      "4\n",
      "6\n"
     ]
    }
   ],
   "source": [
    "s2.insertBack(4)\n",
    "s2.insertBack(6)\n",
    "s2.printList()"
   ]
  },
  {
   "cell_type": "code",
   "execution_count": 123,
   "metadata": {},
   "outputs": [],
   "source": [
    "cur = s1.head\n",
    "\n",
    "\n",
    "i = 0\n",
    "while i<4:\n",
    "    cur = cur.next\n",
    "    i += 1\n",
    "cc = s2.head\n",
    "j = 0\n",
    "while j < 1:\n",
    "    cc = cc.next\n",
    "    j += 1\n",
    "cc.next = cur"
   ]
  },
  {
   "cell_type": "code",
   "execution_count": 116,
   "metadata": {},
   "outputs": [
    {
     "name": "stdout",
     "output_type": "stream",
     "text": [
      "4\n",
      "6\n",
      "9\n",
      "7\n",
      "2\n",
      "1\n"
     ]
    }
   ],
   "source": [
    "s2.printList()"
   ]
  },
  {
   "cell_type": "code",
   "execution_count": 117,
   "metadata": {},
   "outputs": [
    {
     "name": "stdout",
     "output_type": "stream",
     "text": [
      "3\n",
      "1\n",
      "5\n",
      "9\n",
      "7\n",
      "2\n",
      "1\n"
     ]
    }
   ],
   "source": [
    "s1.printList()"
   ]
  },
  {
   "cell_type": "code",
   "execution_count": 118,
   "metadata": {},
   "outputs": [
    {
     "data": {
      "text/plain": [
       "9"
      ]
     },
     "execution_count": 118,
     "metadata": {},
     "output_type": "execute_result"
    }
   ],
   "source": [
    "intersection(s1, s2)"
   ]
  },
  {
   "cell_type": "code",
   "execution_count": 121,
   "metadata": {},
   "outputs": [],
   "source": [
    "def inter(l1, l2):\n",
    "    pointer1 = l1.head\n",
    "    len1 = 1\n",
    "    \n",
    "    pointer2 = l2.head\n",
    "    len2 = 1\n",
    "    \n",
    "    while pointer1.next != None:\n",
    "        len1 += 1\n",
    "        pointer1 = pointer1.next\n",
    "    \n",
    "    while pointer2.next != None:\n",
    "        len2 += 1\n",
    "        pointer2 = pointer2.next\n",
    "        \n",
    "    \n",
    "    if pointer1 == pointer2:\n",
    "        pointer1 = l1.head\n",
    "        pointer2 = l2.head\n",
    "        if len1 != len2:\n",
    "            diff = abs(len1 - len2)\n",
    "            if len1 > len2:\n",
    "                greater = pointer1\n",
    "                lower = pointer2\n",
    "            else:\n",
    "                greater = pointer2\n",
    "                lower = pointer1\n",
    "            while diff > 0:\n",
    "                greater = greater.next\n",
    "                diff -= 1\n",
    "            while greater != lower:\n",
    "                greater = greater.next\n",
    "                lower = lower.next\n",
    "            return greater.value\n",
    "\n",
    "            \n",
    "    else:\n",
    "        return 'no intersection'\n",
    "        "
   ]
  },
  {
   "cell_type": "code",
   "execution_count": 122,
   "metadata": {},
   "outputs": [
    {
     "data": {
      "text/plain": [
       "9"
      ]
     },
     "execution_count": 122,
     "metadata": {},
     "output_type": "execute_result"
    }
   ],
   "source": [
    "inter(s1, s2)"
   ]
  },
  {
   "cell_type": "code",
   "execution_count": null,
   "metadata": {},
   "outputs": [],
   "source": []
  }
 ],
 "metadata": {
  "kernelspec": {
   "display_name": "py2",
   "language": "python",
   "name": "py2"
  },
  "language_info": {
   "codemirror_mode": {
    "name": "ipython",
    "version": 2
   },
   "file_extension": ".py",
   "mimetype": "text/x-python",
   "name": "python",
   "nbconvert_exporter": "python",
   "pygments_lexer": "ipython2",
   "version": "2.7.15"
  }
 },
 "nbformat": 4,
 "nbformat_minor": 2
}
