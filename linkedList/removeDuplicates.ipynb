{
 "cells": [
  {
   "cell_type": "code",
   "execution_count": 184,
   "metadata": {},
   "outputs": [],
   "source": [
    "class Node:\n",
    "    def __init__(self, value):\n",
    "        self.next = None\n",
    "        self.value = value\n",
    "    \n",
    "class singlyList:\n",
    "    def __init__(self):\n",
    "        self.head = None\n",
    "        \n",
    "    def insertBack(self, val):\n",
    "        node = Node(val)\n",
    "        currentPointer = self.head\n",
    "        if self.head == None:\n",
    "            self.head = node\n",
    "        else:\n",
    "            while currentPointer.next != None:\n",
    "                currentPointer = currentPointer.next\n",
    "            currentPointer.next = node\n",
    "    def deleteBack(self):\n",
    "        currentP = self.head\n",
    "        if self.head == None:\n",
    "            print 'no node in list'\n",
    "        else:\n",
    "            if self.head.next == None:\n",
    "                self.head = None\n",
    "            else:\n",
    "                while currentP.next.next != None:\n",
    "                    currentP = currentP.next\n",
    "                currentP.next = None   \n",
    "            \n",
    "    def printList(self):\n",
    "        pointer = self.head\n",
    "        if self.head == None:\n",
    "            print 'list is empty'\n",
    "        else:\n",
    "            while pointer != None:\n",
    "                print pointer.value\n",
    "                pointer = pointer.next    "
   ]
  },
  {
   "cell_type": "code",
   "execution_count": 236,
   "metadata": {},
   "outputs": [],
   "source": [
    "s = singlyList()"
   ]
  },
  {
   "cell_type": "code",
   "execution_count": null,
   "metadata": {},
   "outputs": [],
   "source": []
  },
  {
   "cell_type": "code",
   "execution_count": 237,
   "metadata": {},
   "outputs": [],
   "source": [
    "s.insertBack(7)"
   ]
  },
  {
   "cell_type": "code",
   "execution_count": 238,
   "metadata": {},
   "outputs": [],
   "source": [
    "s.insertBack(9)"
   ]
  },
  {
   "cell_type": "code",
   "execution_count": 239,
   "metadata": {},
   "outputs": [],
   "source": [
    "s.insertBack(15)"
   ]
  },
  {
   "cell_type": "code",
   "execution_count": 240,
   "metadata": {},
   "outputs": [],
   "source": [
    "s.insertBack(5)"
   ]
  },
  {
   "cell_type": "code",
   "execution_count": 241,
   "metadata": {},
   "outputs": [],
   "source": [
    "s.insertBack(15)"
   ]
  },
  {
   "cell_type": "code",
   "execution_count": 242,
   "metadata": {},
   "outputs": [],
   "source": [
    "s.insertBack(3)"
   ]
  },
  {
   "cell_type": "code",
   "execution_count": 243,
   "metadata": {},
   "outputs": [],
   "source": [
    "s.insertBack(18)"
   ]
  },
  {
   "cell_type": "code",
   "execution_count": 244,
   "metadata": {},
   "outputs": [],
   "source": [
    "s.insertBack(1)"
   ]
  },
  {
   "cell_type": "code",
   "execution_count": 245,
   "metadata": {},
   "outputs": [],
   "source": [
    "s.insertBack(2)"
   ]
  },
  {
   "cell_type": "code",
   "execution_count": 246,
   "metadata": {},
   "outputs": [],
   "source": [
    "s.insertBack(13)"
   ]
  },
  {
   "cell_type": "code",
   "execution_count": 247,
   "metadata": {},
   "outputs": [],
   "source": [
    "s.insertBack(18)"
   ]
  },
  {
   "cell_type": "code",
   "execution_count": 248,
   "metadata": {},
   "outputs": [
    {
     "name": "stdout",
     "output_type": "stream",
     "text": [
      "7\n",
      "9\n",
      "15\n",
      "5\n",
      "15\n",
      "3\n",
      "18\n",
      "1\n",
      "2\n",
      "13\n",
      "18\n"
     ]
    }
   ],
   "source": [
    "s.printList()"
   ]
  },
  {
   "cell_type": "code",
   "execution_count": 207,
   "metadata": {},
   "outputs": [],
   "source": [
    "def removeDuplicates(ll):\n",
    "    d = dict()\n",
    "    pointer = ll.head\n",
    "    d[pointer.value] = 1\n",
    "    prev = ll.head\n",
    "    while pointer != None:\n",
    "        if pointer.next == None:\n",
    "            if pointer.next.value in d:\n",
    "                pointer.next = None\n",
    "        if pointer.next.value not in d:\n",
    "            d[pointer.next.value] = 1\n",
    "        else:\n",
    "            pointer.next = pointer.next.next\n",
    "            continue\n",
    "        pointer = pointer.next\n",
    "    print d\n",
    "    print ll.printList()"
   ]
  },
  {
   "cell_type": "code",
   "execution_count": 208,
   "metadata": {},
   "outputs": [
    {
     "ename": "AttributeError",
     "evalue": "'NoneType' object has no attribute 'value'",
     "output_type": "error",
     "traceback": [
      "\u001b[0;31m---------------------------------------------------------------------------\u001b[0m",
      "\u001b[0;31mAttributeError\u001b[0m                            Traceback (most recent call last)",
      "\u001b[0;32m<ipython-input-208-6766f8fd414b>\u001b[0m in \u001b[0;36m<module>\u001b[0;34m()\u001b[0m\n\u001b[0;32m----> 1\u001b[0;31m \u001b[0mremoveDuplicates\u001b[0m\u001b[0;34m(\u001b[0m\u001b[0ms\u001b[0m\u001b[0;34m)\u001b[0m\u001b[0;34m\u001b[0m\u001b[0m\n\u001b[0m",
      "\u001b[0;32m<ipython-input-207-4ad6316ce0a5>\u001b[0m in \u001b[0;36mremoveDuplicates\u001b[0;34m(ll)\u001b[0m\n\u001b[1;32m      6\u001b[0m     \u001b[0;32mwhile\u001b[0m \u001b[0mpointer\u001b[0m \u001b[0;34m!=\u001b[0m \u001b[0mNone\u001b[0m\u001b[0;34m:\u001b[0m\u001b[0;34m\u001b[0m\u001b[0m\n\u001b[1;32m      7\u001b[0m         \u001b[0;32mif\u001b[0m \u001b[0mpointer\u001b[0m\u001b[0;34m.\u001b[0m\u001b[0mnext\u001b[0m \u001b[0;34m==\u001b[0m \u001b[0mNone\u001b[0m\u001b[0;34m:\u001b[0m\u001b[0;34m\u001b[0m\u001b[0m\n\u001b[0;32m----> 8\u001b[0;31m             \u001b[0;32mif\u001b[0m \u001b[0mpointer\u001b[0m\u001b[0;34m.\u001b[0m\u001b[0mnext\u001b[0m\u001b[0;34m.\u001b[0m\u001b[0mvalue\u001b[0m \u001b[0;32min\u001b[0m \u001b[0md\u001b[0m\u001b[0;34m:\u001b[0m\u001b[0;34m\u001b[0m\u001b[0m\n\u001b[0m\u001b[1;32m      9\u001b[0m                 \u001b[0mpointer\u001b[0m\u001b[0;34m.\u001b[0m\u001b[0mnext\u001b[0m \u001b[0;34m=\u001b[0m \u001b[0mNone\u001b[0m\u001b[0;34m\u001b[0m\u001b[0m\n\u001b[1;32m     10\u001b[0m         \u001b[0;32mif\u001b[0m \u001b[0mpointer\u001b[0m\u001b[0;34m.\u001b[0m\u001b[0mnext\u001b[0m\u001b[0;34m.\u001b[0m\u001b[0mvalue\u001b[0m \u001b[0;32mnot\u001b[0m \u001b[0;32min\u001b[0m \u001b[0md\u001b[0m\u001b[0;34m:\u001b[0m\u001b[0;34m\u001b[0m\u001b[0m\n",
      "\u001b[0;31mAttributeError\u001b[0m: 'NoneType' object has no attribute 'value'"
     ]
    }
   ],
   "source": [
    "removeDuplicates(s)"
   ]
  },
  {
   "cell_type": "code",
   "execution_count": 251,
   "metadata": {},
   "outputs": [],
   "source": [
    "def removedup(ll):\n",
    "    \n",
    "    prev = ll.head\n",
    "    cur = ll.head.next\n",
    "    d = dict()\n",
    "    d[ll.head.value] = 1\n",
    "    while cur != None:\n",
    "        if cur.value not in d:\n",
    "            d[cur.value] = 1\n",
    "            prev = cur\n",
    "        else:\n",
    "            prev.next = cur.next\n",
    "        cur = cur.next\n",
    "    print d\n",
    "    ll.printList()"
   ]
  },
  {
   "cell_type": "code",
   "execution_count": 252,
   "metadata": {},
   "outputs": [
    {
     "name": "stdout",
     "output_type": "stream",
     "text": [
      "{1: 1, 2: 1, 3: 1, 5: 1, 7: 1, 9: 1, 13: 1, 15: 1, 18: 1}\n",
      "7\n",
      "9\n",
      "15\n",
      "5\n",
      "3\n",
      "18\n",
      "1\n",
      "2\n",
      "13\n"
     ]
    }
   ],
   "source": [
    "removedup(s)"
   ]
  },
  {
   "cell_type": "code",
   "execution_count": null,
   "metadata": {},
   "outputs": [],
   "source": []
  },
  {
   "cell_type": "code",
   "execution_count": null,
   "metadata": {},
   "outputs": [],
   "source": []
  },
  {
   "cell_type": "code",
   "execution_count": null,
   "metadata": {},
   "outputs": [],
   "source": []
  },
  {
   "cell_type": "code",
   "execution_count": null,
   "metadata": {},
   "outputs": [],
   "source": []
  },
  {
   "cell_type": "code",
   "execution_count": null,
   "metadata": {},
   "outputs": [],
   "source": []
  },
  {
   "cell_type": "code",
   "execution_count": null,
   "metadata": {},
   "outputs": [],
   "source": []
  },
  {
   "cell_type": "code",
   "execution_count": null,
   "metadata": {},
   "outputs": [],
   "source": []
  },
  {
   "cell_type": "code",
   "execution_count": null,
   "metadata": {},
   "outputs": [],
   "source": []
  },
  {
   "cell_type": "code",
   "execution_count": 259,
   "metadata": {},
   "outputs": [],
   "source": [
    "def remove(ll):\n",
    "    d = dict()\n",
    "    d[ll.head.value] = 1\n",
    "    previous = ll.head\n",
    "    current = ll.head.next\n",
    "    while current != None:\n",
    "        if current.value not in d:\n",
    "            d[current.value] = 1\n",
    "            previous = current\n",
    "        else:\n",
    "            previous.next = current.next\n",
    "        current = current.next"
   ]
  },
  {
   "cell_type": "code",
   "execution_count": 260,
   "metadata": {},
   "outputs": [],
   "source": [
    "ss = singlyList()\n",
    "ss.insertBack(2)"
   ]
  },
  {
   "cell_type": "code",
   "execution_count": 261,
   "metadata": {},
   "outputs": [],
   "source": [
    "ss.insertBack(8)"
   ]
  },
  {
   "cell_type": "code",
   "execution_count": 262,
   "metadata": {},
   "outputs": [
    {
     "name": "stdout",
     "output_type": "stream",
     "text": [
      "2\n",
      "8\n",
      "10\n",
      "18\n",
      "80\n",
      "8\n",
      "48\n",
      "80\n",
      "58\n",
      "10\n"
     ]
    }
   ],
   "source": [
    "ss.insertBack(10)\n",
    "ss.insertBack(18)\n",
    "ss.insertBack(80)\n",
    "ss.insertBack(8)\n",
    "ss.insertBack(48)\n",
    "ss.insertBack(80)\n",
    "ss.insertBack(58)\n",
    "ss.insertBack(10)\n",
    "ss.printList()"
   ]
  },
  {
   "cell_type": "code",
   "execution_count": 257,
   "metadata": {},
   "outputs": [],
   "source": [
    "remove(ss)"
   ]
  },
  {
   "cell_type": "code",
   "execution_count": 258,
   "metadata": {},
   "outputs": [
    {
     "name": "stdout",
     "output_type": "stream",
     "text": [
      "2\n",
      "8\n",
      "10\n",
      "18\n",
      "80\n",
      "48\n",
      "58\n"
     ]
    }
   ],
   "source": [
    "ss.printList()"
   ]
  },
  {
   "cell_type": "code",
   "execution_count": 268,
   "metadata": {},
   "outputs": [],
   "source": [
    "def removeEle(ll):\n",
    "    pointer = ll.head\n",
    "    while pointer != None:\n",
    "        localCurrent = pointer.next\n",
    "        localPrevious = pointer\n",
    "        while localCurrent != None:\n",
    "            if localCurrent.value == pointer.value:\n",
    "                localPrevious.next = localCurrent.next\n",
    "            else:\n",
    "                localPrevious = localCurrent\n",
    "            localCurrent = localCurrent.next\n",
    "        pointer = pointer.next\n",
    "            "
   ]
  },
  {
   "cell_type": "code",
   "execution_count": 269,
   "metadata": {},
   "outputs": [],
   "source": [
    "ss = singlyList()\n",
    "ss.insertBack(2)"
   ]
  },
  {
   "cell_type": "code",
   "execution_count": 270,
   "metadata": {},
   "outputs": [],
   "source": [
    "ss.insertBack(8)"
   ]
  },
  {
   "cell_type": "code",
   "execution_count": 271,
   "metadata": {},
   "outputs": [
    {
     "name": "stdout",
     "output_type": "stream",
     "text": [
      "2\n",
      "8\n",
      "10\n",
      "18\n",
      "80\n",
      "8\n",
      "48\n",
      "80\n",
      "58\n",
      "10\n"
     ]
    }
   ],
   "source": [
    "ss.insertBack(10)\n",
    "ss.insertBack(18)\n",
    "ss.insertBack(80)\n",
    "ss.insertBack(8)\n",
    "ss.insertBack(48)\n",
    "ss.insertBack(80)\n",
    "ss.insertBack(58)\n",
    "ss.insertBack(10)\n",
    "ss.printList()"
   ]
  },
  {
   "cell_type": "code",
   "execution_count": 272,
   "metadata": {},
   "outputs": [],
   "source": [
    "removeEle(ss)"
   ]
  },
  {
   "cell_type": "code",
   "execution_count": 273,
   "metadata": {},
   "outputs": [
    {
     "name": "stdout",
     "output_type": "stream",
     "text": [
      "2\n",
      "8\n",
      "10\n",
      "18\n",
      "80\n",
      "48\n",
      "58\n"
     ]
    }
   ],
   "source": [
    "ss.printList()"
   ]
  },
  {
   "cell_type": "code",
   "execution_count": null,
   "metadata": {},
   "outputs": [],
   "source": []
  }
 ],
 "metadata": {
  "kernelspec": {
   "display_name": "py2",
   "language": "python",
   "name": "py2"
  },
  "language_info": {
   "codemirror_mode": {
    "name": "ipython",
    "version": 2
   },
   "file_extension": ".py",
   "mimetype": "text/x-python",
   "name": "python",
   "nbconvert_exporter": "python",
   "pygments_lexer": "ipython2",
   "version": "2.7.15"
  }
 },
 "nbformat": 4,
 "nbformat_minor": 2
}
