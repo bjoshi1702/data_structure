{
 "cells": [
  {
   "cell_type": "code",
   "execution_count": 96,
   "metadata": {},
   "outputs": [],
   "source": [
    "class Node:\n",
    "    def __init__(self, value):\n",
    "        self.next = None\n",
    "        self.value = value\n",
    "    \n",
    "class singlyList:\n",
    "    def __init__(self):\n",
    "        self.head = None\n",
    "        \n",
    "    def insertBack(self, val):\n",
    "        node = Node(val)\n",
    "        currentPointer = self.head\n",
    "        if self.head == None:\n",
    "            self.head = node\n",
    "        else:\n",
    "            while currentPointer.next != None:\n",
    "                currentPointer = currentPointer.next\n",
    "            currentPointer.next = node\n",
    "    def deleteBack(self):\n",
    "        currentP = self.head\n",
    "        if self.head == None:\n",
    "            print 'no node in list'\n",
    "        else:\n",
    "            if self.head.next == None:\n",
    "                self.head = None\n",
    "            else:\n",
    "                while currentP.next.next != None:\n",
    "                    currentP = currentP.next\n",
    "                currentP.next = None   \n",
    "            \n",
    "    def printList(self):\n",
    "        pointer = self.head\n",
    "        if self.head == None:\n",
    "            print 'list is empty'\n",
    "        else:\n",
    "            while pointer != None:\n",
    "                print pointer.value\n",
    "                pointer = pointer.next"
   ]
  },
  {
   "cell_type": "code",
   "execution_count": 106,
   "metadata": {},
   "outputs": [],
   "source": [
    "def partition(head_node, partition_value):\n",
    "    smallerList = singlyList()\n",
    "    largerList = singlyList()\n",
    "    small_pointer = None\n",
    "    \n",
    "    \n",
    "    while head_node != None:\n",
    "        nextNode = head_node.next\n",
    "        if head_node.value < partition_value:\n",
    "            if smallerList.head == None:\n",
    "                smallerList.head = head_node\n",
    "                small_pointer = head_node\n",
    "            else:\n",
    "                head_node.next = smallerList.head\n",
    "                smallerList.head = head_node\n",
    "        else:\n",
    "            if largerList.head == None:\n",
    "                largerList.head = head_node\n",
    "                largerList.head.next = None\n",
    "            else:\n",
    "                head_node.next = largerList.head\n",
    "                largerList.head = head_node\n",
    "        head_node = nextNode\n",
    "    small_pointer.next = largerList.head\n",
    "    smallerList.printList()"
   ]
  },
  {
   "cell_type": "code",
   "execution_count": 107,
   "metadata": {},
   "outputs": [],
   "source": [
    "ss = singlyList()"
   ]
  },
  {
   "cell_type": "code",
   "execution_count": 108,
   "metadata": {},
   "outputs": [],
   "source": [
    "ss.insertBack(3)\n",
    "ss.insertBack(5)\n",
    "ss.insertBack(8)\n",
    "ss.insertBack(5)\n",
    "ss.insertBack(10)\n",
    "ss.insertBack(2)\n",
    "ss.insertBack(1)"
   ]
  },
  {
   "cell_type": "code",
   "execution_count": 109,
   "metadata": {},
   "outputs": [
    {
     "name": "stdout",
     "output_type": "stream",
     "text": [
      "3\n",
      "5\n",
      "8\n",
      "5\n",
      "10\n",
      "2\n",
      "1\n"
     ]
    }
   ],
   "source": [
    "ss.printList()"
   ]
  },
  {
   "cell_type": "code",
   "execution_count": 110,
   "metadata": {},
   "outputs": [
    {
     "name": "stdout",
     "output_type": "stream",
     "text": [
      "1\n",
      "2\n",
      "3\n",
      "10\n",
      "5\n",
      "8\n",
      "5\n"
     ]
    }
   ],
   "source": [
    "partition(ss.head, 5)"
   ]
  },
  {
   "cell_type": "markdown",
   "metadata": {},
   "source": [
    "# head_Node --> 3 --> 5 --> 8 --> 5 --> 10 --> 2 --> 1 --> None\n",
    "\n",
    "## smallList.head -->1-->2 --> 3\n",
    "\n",
    "## largeList.head --> 10 --> 5--> 8-->5"
   ]
  },
  {
   "cell_type": "code",
   "execution_count": null,
   "metadata": {},
   "outputs": [],
   "source": []
  }
 ],
 "metadata": {
  "kernelspec": {
   "display_name": "py2",
   "language": "python",
   "name": "py2"
  },
  "language_info": {
   "codemirror_mode": {
    "name": "ipython",
    "version": 2
   },
   "file_extension": ".py",
   "mimetype": "text/x-python",
   "name": "python",
   "nbconvert_exporter": "python",
   "pygments_lexer": "ipython2",
   "version": "2.7.15"
  }
 },
 "nbformat": 4,
 "nbformat_minor": 2
}
