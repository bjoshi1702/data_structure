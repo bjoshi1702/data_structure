{
 "cells": [
  {
   "cell_type": "code",
   "execution_count": 1,
   "metadata": {},
   "outputs": [],
   "source": [
    "class Node:\n",
    "    def __init__(self, value):\n",
    "        self.next = None\n",
    "        self.value = value\n",
    "    \n",
    "class singlyList:\n",
    "    def __init__(self):\n",
    "        self.head = None\n",
    "        \n",
    "    def insertBack(self, val):\n",
    "        node = Node(val)\n",
    "        currentPointer = self.head\n",
    "        if self.head == None:\n",
    "            self.head = node\n",
    "        else:\n",
    "            while currentPointer.next != None:\n",
    "                currentPointer = currentPointer.next\n",
    "            currentPointer.next = node\n",
    "    def deleteBack(self):\n",
    "        currentP = self.head\n",
    "        if self.head == None:\n",
    "            print 'no node in list'\n",
    "        else:\n",
    "            if self.head.next == None:\n",
    "                self.head = None\n",
    "            else:\n",
    "                while currentP.next.next != None:\n",
    "                    currentP = currentP.next\n",
    "                currentP.next = None   \n",
    "            \n",
    "    def printList(self):\n",
    "        pointer = self.head\n",
    "        if self.head == None:\n",
    "            print 'list is empty'\n",
    "        else:\n",
    "            while pointer != None:\n",
    "                print pointer.value\n",
    "                pointer = pointer.next  "
   ]
  },
  {
   "cell_type": "code",
   "execution_count": 17,
   "metadata": {},
   "outputs": [],
   "source": [
    "def returnEle(ll, k):\n",
    "    counter = 1\n",
    "    pointer = ll.head\n",
    "    l = list()\n",
    "    while pointer != None:\n",
    "        if counter == k:\n",
    "            while pointer != None:\n",
    "                l.append(pointer.value)\n",
    "                pointer = pointer.next\n",
    "            print l\n",
    "            return l    \n",
    "        else:\n",
    "            counter = counter + 1\n",
    "            pointer = pointer.next\n",
    "            \n",
    "    "
   ]
  },
  {
   "cell_type": "code",
   "execution_count": 18,
   "metadata": {},
   "outputs": [],
   "source": [
    "s = singlyList()"
   ]
  },
  {
   "cell_type": "code",
   "execution_count": 19,
   "metadata": {},
   "outputs": [],
   "source": [
    "s.insertBack(5)\n",
    "s.insertBack(8)\n",
    "s.insertBack(9)\n",
    "s.insertBack(10)\n",
    "s.insertBack(15)\n",
    "s.insertBack(67)"
   ]
  },
  {
   "cell_type": "code",
   "execution_count": 20,
   "metadata": {},
   "outputs": [
    {
     "name": "stdout",
     "output_type": "stream",
     "text": [
      "5\n",
      "8\n",
      "9\n",
      "10\n",
      "15\n",
      "67\n"
     ]
    }
   ],
   "source": [
    "s.printList()"
   ]
  },
  {
   "cell_type": "code",
   "execution_count": 21,
   "metadata": {},
   "outputs": [
    {
     "name": "stdout",
     "output_type": "stream",
     "text": [
      "[9, 10, 15, 67]\n"
     ]
    },
    {
     "data": {
      "text/plain": [
       "[9, 10, 15, 67]"
      ]
     },
     "execution_count": 21,
     "metadata": {},
     "output_type": "execute_result"
    }
   ],
   "source": [
    "returnEle(s, 3)"
   ]
  },
  {
   "cell_type": "code",
   "execution_count": 40,
   "metadata": {},
   "outputs": [],
   "source": [
    "def recursiveReturnEle(node, k, counter):\n",
    "    if node == None:\n",
    "        return\n",
    "    if k <= counter:\n",
    "        print node.value\n",
    "    recursiveReturnEle(node.next, k, counter+1)   "
   ]
  },
  {
   "cell_type": "code",
   "execution_count": 41,
   "metadata": {},
   "outputs": [
    {
     "name": "stdout",
     "output_type": "stream",
     "text": [
      "8\n",
      "9\n",
      "10\n",
      "15\n",
      "67\n"
     ]
    }
   ],
   "source": [
    "recursiveReturnEle(s.head, 2, 1)"
   ]
  },
  {
   "cell_type": "code",
   "execution_count": 49,
   "metadata": {},
   "outputs": [],
   "source": [
    "def returnElements(ll, k):\n",
    "    p1 = ll.head\n",
    "    p2 = ll.head\n",
    "    c = 1\n",
    "    while c <= k:\n",
    "        p1 = p1.next\n",
    "        c += 1\n",
    "    \n",
    "    while p1 != None:\n",
    "        p1 = p1.next\n",
    "        p2 = p2.next\n",
    "        \n",
    "    while p2 != None:\n",
    "        print p2.value\n",
    "        p2 = p2.next"
   ]
  },
  {
   "cell_type": "code",
   "execution_count": 50,
   "metadata": {},
   "outputs": [
    {
     "name": "stdout",
     "output_type": "stream",
     "text": [
      "10\n",
      "15\n",
      "67\n",
      "hi\n"
     ]
    }
   ],
   "source": [
    "returnElements(s, 3)"
   ]
  },
  {
   "cell_type": "code",
   "execution_count": 1,
   "metadata": {},
   "outputs": [],
   "source": [
    "mm = []\n",
    "mm.append(10)"
   ]
  },
  {
   "cell_type": "code",
   "execution_count": 2,
   "metadata": {},
   "outputs": [
    {
     "data": {
      "text/plain": [
       "[10]"
      ]
     },
     "execution_count": 2,
     "metadata": {},
     "output_type": "execute_result"
    }
   ],
   "source": [
    "mm"
   ]
  },
  {
   "cell_type": "code",
   "execution_count": 5,
   "metadata": {},
   "outputs": [],
   "source": [
    "def printList(var):\n",
    "    var.append(20)\n",
    "    print var"
   ]
  },
  {
   "cell_type": "code",
   "execution_count": 6,
   "metadata": {},
   "outputs": [
    {
     "name": "stdout",
     "output_type": "stream",
     "text": [
      "[10, 20, 20]\n"
     ]
    }
   ],
   "source": [
    "printList(mm)"
   ]
  },
  {
   "cell_type": "code",
   "execution_count": null,
   "metadata": {},
   "outputs": [],
   "source": []
  }
 ],
 "metadata": {
  "kernelspec": {
   "display_name": "py2",
   "language": "python",
   "name": "py2"
  },
  "language_info": {
   "codemirror_mode": {
    "name": "ipython",
    "version": 2
   },
   "file_extension": ".py",
   "mimetype": "text/x-python",
   "name": "python",
   "nbconvert_exporter": "python",
   "pygments_lexer": "ipython2",
   "version": "2.7.15"
  }
 },
 "nbformat": 4,
 "nbformat_minor": 2
}
