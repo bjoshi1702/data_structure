{
 "cells": [
  {
   "cell_type": "markdown",
   "metadata": {},
   "source": [
    "# Weighted Quick Union\n",
    "- Here, union and isConnected operations will take O(logn) time as tree size will never get larger than logn.\n",
    "- findRoot method: It will find the root of given node.\n",
    "- isConnected method - It will check whether two nodes are connected or not.\n",
    "- union method - It will connect two components\n",
    "\n",
    "# How it works\n",
    "- union(node1, node2): firstly, it will check the weight of root(node1) and weight of root(node2). If weight of root(node1) is smaller than weight of root(node2), the tree with root(node1) will join the tree with root(node2). [it means tree(node1) will go below of tree(node2).]\n",
    "\n",
    "- And if weight of root(node1) is larger or equal of weight of root(node2), the tree with root(node2) will go below of tree(node1).\n",
    "\n",
    "- isConnected(node1, node2): return true if roots of node1 and node2 are same\n",
    "\n",
    "- findRoot(node): if list value and index is not same for node, the node will become the value. So, it will find the root of the node [when index and value becomes same]\n",
    "\n",
    "# Complexity\n",
    "- union operation: O(logn)\n",
    "- isConnected operation: O(logn)"
   ]
  },
  {
   "cell_type": "code",
   "execution_count": 93,
   "metadata": {},
   "outputs": [],
   "source": [
    "class WeightedQuickUnion:\n",
    "    def __init__(self, n):\n",
    "        self.id = list(range(0, n))\n",
    "        self.weight_list = [1] * n\n",
    "    \n",
    "    def union(self, node1, node2):\n",
    "        if self.weight_list[self.findRoot(node1)] < self.weight_list[self.findRoot(node2)]:\n",
    "            self.id[self.findRoot(node1)] = self.id[self.findRoot(node2)]\n",
    "            self.weight_list[node2] = self.weight_list[node2] + self.weight_list[node1]\n",
    "        elif self.weight_list[self.findRoot(node1)] >= self.weight_list[self.findRoot(node2)]:\n",
    "            self.id[self.findRoot(node2)] = self.id[self.findRoot(node1)]\n",
    "            self.weight_list[node1] = self.weight_list[node1] + self.weight_list[node2]\n",
    "    \n",
    "    def findRoot(self, node):\n",
    "        while(self.id[node] != node):\n",
    "            node = self.id[node]\n",
    "        return node\n",
    "    \n",
    "    \n",
    "    def printList(self):\n",
    "        print self.id\n",
    "        print self.weight_list\n",
    "    \n",
    "    def isConnected(self, node1, node2):\n",
    "        return self.findRoot(node1) == self.findRoot(node2)\n",
    "            "
   ]
  },
  {
   "cell_type": "code",
   "execution_count": 94,
   "metadata": {},
   "outputs": [],
   "source": [
    "wu = WeightedQuickUnion(10)"
   ]
  },
  {
   "cell_type": "code",
   "execution_count": 95,
   "metadata": {},
   "outputs": [
    {
     "name": "stdout",
     "output_type": "stream",
     "text": [
      "[0, 1, 2, 3, 4, 5, 6, 7, 8, 9]\n",
      "[1, 1, 1, 1, 1, 1, 1, 1, 1, 1]\n"
     ]
    }
   ],
   "source": [
    "wu.printList()"
   ]
  },
  {
   "cell_type": "code",
   "execution_count": 96,
   "metadata": {},
   "outputs": [],
   "source": [
    "wu.union(4,3)"
   ]
  },
  {
   "cell_type": "code",
   "execution_count": 97,
   "metadata": {},
   "outputs": [
    {
     "name": "stdout",
     "output_type": "stream",
     "text": [
      "[0, 1, 2, 4, 4, 5, 6, 7, 8, 9]\n",
      "[1, 1, 1, 1, 2, 1, 1, 1, 1, 1]\n"
     ]
    }
   ],
   "source": [
    "wu.printList()"
   ]
  },
  {
   "cell_type": "code",
   "execution_count": 98,
   "metadata": {},
   "outputs": [],
   "source": [
    "wu.union(3,8)"
   ]
  },
  {
   "cell_type": "code",
   "execution_count": 99,
   "metadata": {},
   "outputs": [
    {
     "name": "stdout",
     "output_type": "stream",
     "text": [
      "[0, 1, 2, 4, 4, 5, 6, 7, 4, 9]\n",
      "[1, 1, 1, 2, 2, 1, 1, 1, 1, 1]\n"
     ]
    }
   ],
   "source": [
    "wu.printList()"
   ]
  },
  {
   "cell_type": "code",
   "execution_count": 100,
   "metadata": {},
   "outputs": [],
   "source": [
    "wu.union(6,5)"
   ]
  },
  {
   "cell_type": "code",
   "execution_count": 101,
   "metadata": {},
   "outputs": [
    {
     "name": "stdout",
     "output_type": "stream",
     "text": [
      "[0, 1, 2, 4, 4, 6, 6, 7, 4, 9]\n",
      "[1, 1, 1, 2, 2, 1, 2, 1, 1, 1]\n"
     ]
    }
   ],
   "source": [
    "wu.printList()"
   ]
  },
  {
   "cell_type": "code",
   "execution_count": 102,
   "metadata": {},
   "outputs": [],
   "source": [
    "wu.union(9,4)"
   ]
  },
  {
   "cell_type": "code",
   "execution_count": 103,
   "metadata": {},
   "outputs": [
    {
     "name": "stdout",
     "output_type": "stream",
     "text": [
      "[0, 1, 2, 4, 4, 6, 6, 7, 4, 4]\n",
      "[1, 1, 1, 2, 3, 1, 2, 1, 1, 1]\n"
     ]
    }
   ],
   "source": [
    "wu.printList()"
   ]
  },
  {
   "cell_type": "code",
   "execution_count": 104,
   "metadata": {},
   "outputs": [],
   "source": [
    "wu.union(2,1)"
   ]
  },
  {
   "cell_type": "code",
   "execution_count": 105,
   "metadata": {},
   "outputs": [
    {
     "name": "stdout",
     "output_type": "stream",
     "text": [
      "[0, 2, 2, 4, 4, 6, 6, 7, 4, 4]\n",
      "[1, 1, 2, 2, 3, 1, 2, 1, 1, 1]\n"
     ]
    }
   ],
   "source": [
    "wu.printList()"
   ]
  },
  {
   "cell_type": "code",
   "execution_count": 106,
   "metadata": {},
   "outputs": [],
   "source": [
    "wu.union(5,0)"
   ]
  },
  {
   "cell_type": "code",
   "execution_count": 107,
   "metadata": {},
   "outputs": [
    {
     "name": "stdout",
     "output_type": "stream",
     "text": [
      "[6, 2, 2, 4, 4, 6, 6, 7, 4, 4]\n",
      "[1, 1, 2, 2, 3, 2, 2, 1, 1, 1]\n"
     ]
    }
   ],
   "source": [
    "wu.printList()"
   ]
  },
  {
   "cell_type": "code",
   "execution_count": 108,
   "metadata": {},
   "outputs": [],
   "source": [
    "wu.union(7,2)"
   ]
  },
  {
   "cell_type": "code",
   "execution_count": 109,
   "metadata": {},
   "outputs": [
    {
     "name": "stdout",
     "output_type": "stream",
     "text": [
      "[6, 2, 2, 4, 4, 6, 6, 2, 4, 4]\n",
      "[1, 1, 3, 2, 3, 2, 2, 1, 1, 1]\n"
     ]
    }
   ],
   "source": [
    "wu.printList()"
   ]
  },
  {
   "cell_type": "code",
   "execution_count": 110,
   "metadata": {},
   "outputs": [],
   "source": [
    "wu.union(6,1)"
   ]
  },
  {
   "cell_type": "code",
   "execution_count": 111,
   "metadata": {},
   "outputs": [
    {
     "name": "stdout",
     "output_type": "stream",
     "text": [
      "[6, 2, 2, 4, 4, 6, 2, 2, 4, 4]\n",
      "[1, 3, 3, 2, 3, 2, 2, 1, 1, 1]\n"
     ]
    }
   ],
   "source": [
    "wu.printList()"
   ]
  },
  {
   "cell_type": "code",
   "execution_count": 112,
   "metadata": {},
   "outputs": [],
   "source": [
    "wu.union(7,3)"
   ]
  },
  {
   "cell_type": "code",
   "execution_count": 113,
   "metadata": {},
   "outputs": [
    {
     "name": "stdout",
     "output_type": "stream",
     "text": [
      "[6, 2, 2, 4, 2, 6, 2, 2, 4, 4]\n",
      "[1, 3, 3, 2, 3, 2, 2, 3, 1, 1]\n"
     ]
    }
   ],
   "source": [
    "wu.printList()"
   ]
  },
  {
   "cell_type": "code",
   "execution_count": 114,
   "metadata": {},
   "outputs": [
    {
     "data": {
      "text/plain": [
       "True"
      ]
     },
     "execution_count": 114,
     "metadata": {},
     "output_type": "execute_result"
    }
   ],
   "source": [
    "wu.isConnected(1,9)"
   ]
  },
  {
   "cell_type": "code",
   "execution_count": 115,
   "metadata": {},
   "outputs": [
    {
     "data": {
      "text/plain": [
       "True"
      ]
     },
     "execution_count": 115,
     "metadata": {},
     "output_type": "execute_result"
    }
   ],
   "source": [
    "wu.isConnected(0,7)"
   ]
  },
  {
   "cell_type": "code",
   "execution_count": 116,
   "metadata": {},
   "outputs": [
    {
     "data": {
      "text/plain": [
       "True"
      ]
     },
     "execution_count": 116,
     "metadata": {},
     "output_type": "execute_result"
    }
   ],
   "source": [
    "wu.isConnected(4,8)"
   ]
  },
  {
   "cell_type": "code",
   "execution_count": 117,
   "metadata": {},
   "outputs": [
    {
     "data": {
      "text/plain": [
       "True"
      ]
     },
     "execution_count": 117,
     "metadata": {},
     "output_type": "execute_result"
    }
   ],
   "source": [
    "wu.isConnected(0,5)"
   ]
  },
  {
   "cell_type": "code",
   "execution_count": 118,
   "metadata": {},
   "outputs": [
    {
     "data": {
      "text/plain": [
       "True"
      ]
     },
     "execution_count": 118,
     "metadata": {},
     "output_type": "execute_result"
    }
   ],
   "source": [
    "wu.isConnected(1,4)"
   ]
  },
  {
   "cell_type": "code",
   "execution_count": 119,
   "metadata": {},
   "outputs": [
    {
     "data": {
      "text/plain": [
       "True"
      ]
     },
     "execution_count": 119,
     "metadata": {},
     "output_type": "execute_result"
    }
   ],
   "source": [
    "wu.isConnected(2,5)"
   ]
  },
  {
   "cell_type": "code",
   "execution_count": 120,
   "metadata": {},
   "outputs": [
    {
     "data": {
      "text/plain": [
       "True"
      ]
     },
     "execution_count": 120,
     "metadata": {},
     "output_type": "execute_result"
    }
   ],
   "source": [
    "wu.isConnected(3,8)"
   ]
  },
  {
   "cell_type": "code",
   "execution_count": 121,
   "metadata": {},
   "outputs": [
    {
     "data": {
      "text/plain": [
       "True"
      ]
     },
     "execution_count": 121,
     "metadata": {},
     "output_type": "execute_result"
    }
   ],
   "source": [
    "wu.isConnected(4,9)"
   ]
  },
  {
   "cell_type": "code",
   "execution_count": 91,
   "metadata": {},
   "outputs": [
    {
     "data": {
      "text/plain": [
       "True"
      ]
     },
     "execution_count": 91,
     "metadata": {},
     "output_type": "execute_result"
    }
   ],
   "source": [
    "wu.isConnected(5,3)"
   ]
  },
  {
   "cell_type": "code",
   "execution_count": null,
   "metadata": {},
   "outputs": [],
   "source": []
  }
 ],
 "metadata": {
  "kernelspec": {
   "display_name": "Python 2",
   "language": "python",
   "name": "python2"
  },
  "language_info": {
   "codemirror_mode": {
    "name": "ipython",
    "version": 2
   },
   "file_extension": ".py",
   "mimetype": "text/x-python",
   "name": "python",
   "nbconvert_exporter": "python",
   "pygments_lexer": "ipython2",
   "version": "2.7.14"
  }
 },
 "nbformat": 4,
 "nbformat_minor": 2
}
