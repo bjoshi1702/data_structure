{
 "cells": [
  {
   "cell_type": "markdown",
   "metadata": {},
   "source": [
    "# Quick Find\n",
    "- UnionFind will keep track of connected component.\n",
    "- union(n1, n2): Connects two components n1 and n2\n",
    "- isConnected(n1, n2): check if two component n1 and n2 are connected or not\n",
    "\n",
    "# How it works\n",
    "- Union operation will replace parent of n2 with the parent of n1. And also check for entire list whether any component's value is same as value of n2. If yes, that value also be replaced with value of n1.\n",
    "- If components's value is same , then components are connected.\n",
    "\n",
    "# Complexity\n",
    "\n",
    "isConnected => o(1) Because it directly goes to that index\n",
    "\n",
    "union => o(n) Because there is a for loop which iterates on list."
   ]
  },
  {
   "cell_type": "code",
   "execution_count": 20,
   "metadata": {},
   "outputs": [],
   "source": [
    "class UnionFind:\n",
    "    def __init__(self, n):\n",
    "        self.id = list(range(0, n))\n",
    "    def isConnected(self, n1, n2):\n",
    "        if self.id[n1] == self.id[n2]:\n",
    "            return True\n",
    "        else:\n",
    "            return False\n",
    "    \n",
    "    def union(self, n1, n2):\n",
    "        val = self.id[n2]\n",
    "        for i in range(0, len(self.id)):\n",
    "            if self.id[i] == val:\n",
    "                self.id[i] = self.id[n1]\n",
    "                \n",
    "    def printList(self):\n",
    "        print self.id"
   ]
  },
  {
   "cell_type": "code",
   "execution_count": 21,
   "metadata": {},
   "outputs": [],
   "source": [
    "uf = UnionFind(10)"
   ]
  },
  {
   "cell_type": "code",
   "execution_count": 22,
   "metadata": {},
   "outputs": [],
   "source": [
    "uf.union(3,7)"
   ]
  },
  {
   "cell_type": "code",
   "execution_count": 23,
   "metadata": {},
   "outputs": [
    {
     "name": "stdout",
     "output_type": "stream",
     "text": [
      "[0, 1, 2, 3, 4, 5, 6, 3, 8, 9]\n"
     ]
    }
   ],
   "source": [
    "uf.printList()"
   ]
  },
  {
   "cell_type": "code",
   "execution_count": 24,
   "metadata": {},
   "outputs": [],
   "source": [
    "uf.union(7,9)"
   ]
  },
  {
   "cell_type": "code",
   "execution_count": 25,
   "metadata": {},
   "outputs": [
    {
     "name": "stdout",
     "output_type": "stream",
     "text": [
      "[0, 1, 2, 3, 4, 5, 6, 3, 8, 3]\n"
     ]
    }
   ],
   "source": [
    "uf.printList()"
   ]
  },
  {
   "cell_type": "code",
   "execution_count": 26,
   "metadata": {},
   "outputs": [],
   "source": [
    "uf.union(4,3)"
   ]
  },
  {
   "cell_type": "code",
   "execution_count": 27,
   "metadata": {},
   "outputs": [
    {
     "name": "stdout",
     "output_type": "stream",
     "text": [
      "[0, 1, 2, 4, 4, 5, 6, 4, 8, 4]\n"
     ]
    }
   ],
   "source": [
    "uf.printList()"
   ]
  },
  {
   "cell_type": "code",
   "execution_count": 28,
   "metadata": {},
   "outputs": [
    {
     "data": {
      "text/plain": [
       "True"
      ]
     },
     "execution_count": 28,
     "metadata": {},
     "output_type": "execute_result"
    }
   ],
   "source": [
    "uf.isConnected(4,3)"
   ]
  },
  {
   "cell_type": "code",
   "execution_count": null,
   "metadata": {},
   "outputs": [],
   "source": []
  }
 ],
 "metadata": {
  "kernelspec": {
   "display_name": "Python 2",
   "language": "python",
   "name": "python2"
  },
  "language_info": {
   "codemirror_mode": {
    "name": "ipython",
    "version": 2
   },
   "file_extension": ".py",
   "mimetype": "text/x-python",
   "name": "python",
   "nbconvert_exporter": "python",
   "pygments_lexer": "ipython2",
   "version": "2.7.14"
  }
 },
 "nbformat": 4,
 "nbformat_minor": 2
}
