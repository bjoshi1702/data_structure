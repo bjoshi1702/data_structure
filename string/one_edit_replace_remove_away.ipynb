{
 "cells": [
  {
   "cell_type": "code",
   "execution_count": 29,
   "metadata": {},
   "outputs": [],
   "source": [
    "def oneEditAway(str1, str2):\n",
    "    if len(str1) == len(str2):\n",
    "        return oneReplace(str1, str2)\n",
    "    elif len(str1) - 1 == len(str2):\n",
    "        return oneAddRemove(str1, str2)\n",
    "    elif len(str1) + 1 == len(str2):\n",
    "        return oneAddRemove(str2, str1)\n",
    "    else:\n",
    "        return False\n",
    "        \n",
    "def oneReplace(str1, str2):\n",
    "    count = 0\n",
    "    for ch in range(len(str1)):\n",
    "        if str1[ch] == str2[ch]:\n",
    "            pass\n",
    "        elif count == 0:\n",
    "            count += 1\n",
    "        else:\n",
    "            return False\n",
    "    return True\n",
    "        \n",
    "def oneAddRemove(str1, str2):\n",
    "    index1 = 0\n",
    "    index2 = 0\n",
    "    while index1 < len(str1) and index2 < len(str2):\n",
    "        if str1[index1] != str2[index2]:\n",
    "            if index1 != index2:\n",
    "                return False\n",
    "            else:\n",
    "                index1 += 1\n",
    "        else:\n",
    "            index1 += 1\n",
    "            index2 += 1\n",
    "    return True         "
   ]
  },
  {
   "cell_type": "code",
   "execution_count": 30,
   "metadata": {},
   "outputs": [
    {
     "data": {
      "text/plain": [
       "False"
      ]
     },
     "execution_count": 30,
     "metadata": {},
     "output_type": "execute_result"
    }
   ],
   "source": [
    "oneEditAway('pale', 'kpalexx')"
   ]
  },
  {
   "cell_type": "code",
   "execution_count": null,
   "metadata": {},
   "outputs": [],
   "source": []
  }
 ],
 "metadata": {
  "kernelspec": {
   "display_name": "Python 2",
   "language": "python",
   "name": "python2"
  },
  "language_info": {
   "codemirror_mode": {
    "name": "ipython",
    "version": 2
   },
   "file_extension": ".py",
   "mimetype": "text/x-python",
   "name": "python",
   "nbconvert_exporter": "python",
   "pygments_lexer": "ipython2",
   "version": "2.7.14"
  }
 },
 "nbformat": 4,
 "nbformat_minor": 2
}
