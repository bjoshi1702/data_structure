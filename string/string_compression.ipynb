{
 "cells": [
  {
   "cell_type": "code",
   "execution_count": 27,
   "metadata": {},
   "outputs": [],
   "source": [
    "def compression(str1):\n",
    "    count = 1\n",
    "    ans = \"\"\n",
    "    for ch in range(1, len(str1)):\n",
    "        if str1[ch] == str1[ch-1]:\n",
    "            count += 1\n",
    "        else:\n",
    "            ans += str1[ch-1] + str(count)\n",
    "            count = 1\n",
    "        if ch == len(str1)-1:\n",
    "            ans += str1[ch] + str(count)\n",
    "    if len(ans) > len(str1):\n",
    "        return str1\n",
    "    else:\n",
    "        return ans\n",
    "    \n",
    "            "
   ]
  },
  {
   "cell_type": "code",
   "execution_count": 28,
   "metadata": {},
   "outputs": [
    {
     "data": {
      "text/plain": [
       "'a2n1b2j5k1l4'"
      ]
     },
     "execution_count": 28,
     "metadata": {},
     "output_type": "execute_result"
    }
   ],
   "source": [
    "compression(\"aanbbjjjjjkllll\")"
   ]
  },
  {
   "cell_type": "code",
   "execution_count": 29,
   "metadata": {},
   "outputs": [
    {
     "data": {
      "text/plain": [
       "'dabchfjkdr'"
      ]
     },
     "execution_count": 29,
     "metadata": {},
     "output_type": "execute_result"
    }
   ],
   "source": [
    "compression(\"dabchfjkdr\")"
   ]
  },
  {
   "cell_type": "code",
   "execution_count": null,
   "metadata": {},
   "outputs": [],
   "source": []
  }
 ],
 "metadata": {
  "kernelspec": {
   "display_name": "Python 2",
   "language": "python",
   "name": "python2"
  },
  "language_info": {
   "codemirror_mode": {
    "name": "ipython",
    "version": 2
   },
   "file_extension": ".py",
   "mimetype": "text/x-python",
   "name": "python",
   "nbconvert_exporter": "python",
   "pygments_lexer": "ipython2",
   "version": "2.7.14"
  }
 },
 "nbformat": 4,
 "nbformat_minor": 2
}
