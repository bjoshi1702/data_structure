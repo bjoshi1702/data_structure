{
 "cells": [
  {
   "cell_type": "code",
   "execution_count": 15,
   "metadata": {},
   "outputs": [],
   "source": [
    "def isPalindromePermutation(str1):\n",
    "    ch_dir = dict()\n",
    "    is_odd_found = False\n",
    "    for ch in str1:\n",
    "        if ch in ch_dir:\n",
    "            ch_dir[ch] += 1\n",
    "        else:\n",
    "            ch_dir[ch] = 1\n",
    "    for key in ch_dir:\n",
    "        if ch_dir[key] % 2 == 0:\n",
    "            pass\n",
    "        elif is_odd_found == False:\n",
    "            is_odd_found = True\n",
    "        else:\n",
    "            return False\n",
    "    return True"
   ]
  },
  {
   "cell_type": "code",
   "execution_count": 16,
   "metadata": {},
   "outputs": [
    {
     "data": {
      "text/plain": [
       "True"
      ]
     },
     "execution_count": 16,
     "metadata": {},
     "output_type": "execute_result"
    }
   ],
   "source": [
    "isPalindromePermutation('abba')"
   ]
  },
  {
   "cell_type": "code",
   "execution_count": 34,
   "metadata": {},
   "outputs": [],
   "source": [
    "def isPalindromePermutation(str1):\n",
    "    ch_dir = dict()\n",
    "    count = 0\n",
    "    for ch in str1:\n",
    "        if ch in ch_dir:\n",
    "            ch_dir[ch] += 1\n",
    "            if ch_dir[ch] % 2 == 0:\n",
    "                count -= 1\n",
    "            else:\n",
    "                count += 1\n",
    "        else:\n",
    "            ch_dir[ch] = 1\n",
    "            count += 1\n",
    "    if count <= 1:\n",
    "        return True\n",
    "    return False"
   ]
  },
  {
   "cell_type": "code",
   "execution_count": 37,
   "metadata": {},
   "outputs": [
    {
     "data": {
      "text/plain": [
       "True"
      ]
     },
     "execution_count": 37,
     "metadata": {},
     "output_type": "execute_result"
    }
   ],
   "source": [
    "isPalindromePermutation('abffa')"
   ]
  },
  {
   "cell_type": "code",
   "execution_count": 76,
   "metadata": {},
   "outputs": [],
   "source": [
    "def paaalindromePermutation(str1):\n",
    "    checker = 0\n",
    "    for ch in str1:\n",
    "        checker = checker ^ (1 << (ord(ch) - ord('a')))\n",
    "        temp_checker = checker - 1\n",
    "    if checker & temp_checker > 0:\n",
    "        return False\n",
    "    return True\n",
    "        "
   ]
  },
  {
   "cell_type": "code",
   "execution_count": 80,
   "metadata": {},
   "outputs": [
    {
     "data": {
      "text/plain": [
       "True"
      ]
     },
     "execution_count": 80,
     "metadata": {},
     "output_type": "execute_result"
    }
   ],
   "source": [
    "paaalindromePermutation('aa')"
   ]
  },
  {
   "cell_type": "code",
   "execution_count": null,
   "metadata": {},
   "outputs": [],
   "source": []
  }
 ],
 "metadata": {
  "kernelspec": {
   "display_name": "Python 2",
   "language": "python",
   "name": "python2"
  },
  "language_info": {
   "codemirror_mode": {
    "name": "ipython",
    "version": 2
   },
   "file_extension": ".py",
   "mimetype": "text/x-python",
   "name": "python",
   "nbconvert_exporter": "python",
   "pygments_lexer": "ipython2",
   "version": "2.7.14"
  }
 },
 "nbformat": 4,
 "nbformat_minor": 2
}
