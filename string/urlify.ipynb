{
 "cells": [
  {
   "cell_type": "markdown",
   "metadata": {},
   "source": [
    "## URLify string"
   ]
  },
  {
   "cell_type": "code",
   "execution_count": 19,
   "metadata": {},
   "outputs": [],
   "source": [
    "def url(lst, trueLength):\n",
    "    space = 0\n",
    "    index = 0\n",
    "    for i in range(trueLength):\n",
    "        if lst[i] == '':\n",
    "            space = space + 1\n",
    "    totalLength = trueLength + (space * 2)\n",
    "    index = totalLength - 1\n",
    "    i = trueLength - 1\n",
    "    while index != i:\n",
    "        if lst[i] == '':\n",
    "            lst[index] = '0'\n",
    "            lst[index - 1] = '2'\n",
    "            lst[index - 2] = '%'\n",
    "            index = index - 3\n",
    "            i = i - 1\n",
    "        else:\n",
    "            lst[index] = lst[i]\n",
    "            index = index - 1\n",
    "            i = i - 1\n",
    "    return ''.join(lst)"
   ]
  },
  {
   "cell_type": "code",
   "execution_count": 20,
   "metadata": {},
   "outputs": [
    {
     "data": {
      "text/plain": [
       "'i%20am%20bhavik'"
      ]
     },
     "execution_count": 20,
     "metadata": {},
     "output_type": "execute_result"
    }
   ],
   "source": [
    "url(['i', '', 'a', 'm', '', 'b', 'h', 'a', 'v', 'i', 'k', 'a', '', '', ''], 11)"
   ]
  },
  {
   "cell_type": "code",
   "execution_count": null,
   "metadata": {},
   "outputs": [],
   "source": []
  },
  {
   "cell_type": "code",
   "execution_count": null,
   "metadata": {},
   "outputs": [],
   "source": []
  }
 ],
 "metadata": {
  "kernelspec": {
   "display_name": "Python 3",
   "language": "python",
   "name": "python3"
  },
  "language_info": {
   "codemirror_mode": {
    "name": "ipython",
    "version": 3
   },
   "file_extension": ".py",
   "mimetype": "text/x-python",
   "name": "python",
   "nbconvert_exporter": "python",
   "pygments_lexer": "ipython3",
   "version": "3.6.4"
  }
 },
 "nbformat": 4,
 "nbformat_minor": 2
}
