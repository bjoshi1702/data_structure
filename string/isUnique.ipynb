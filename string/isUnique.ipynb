{
 "cells": [
  {
   "cell_type": "markdown",
   "metadata": {},
   "source": [
    "## Implement an algorithm to determine if a string has all unique characters."
   ]
  },
  {
   "cell_type": "code",
   "execution_count": 16,
   "metadata": {},
   "outputs": [
    {
     "name": "stdout",
     "output_type": "stream",
     "text": [
      "please enter your string: fe\n"
     ]
    },
    {
     "data": {
      "text/plain": [
       "True"
      ]
     },
     "execution_count": 16,
     "metadata": {},
     "output_type": "execute_result"
    }
   ],
   "source": [
    "def isUnique():\n",
    "    str = raw_input('please enter your string: ')\n",
    "    str_list = [0] * 26\n",
    "    for i in str:\n",
    "        if str_list[ord(i) - ord('a')] != 0:\n",
    "            return False\n",
    "        else:\n",
    "            str_list[ord(i) - ord('a')] = str_list[ord(i) - ord('a')] + 1\n",
    "    return True\n",
    "\n",
    "isUnique()"
   ]
  },
  {
   "cell_type": "code",
   "execution_count": 23,
   "metadata": {},
   "outputs": [
    {
     "name": "stdout",
     "output_type": "stream",
     "text": [
      "please enter your string: pu\n"
     ]
    },
    {
     "data": {
      "text/plain": [
       "True"
      ]
     },
     "execution_count": 23,
     "metadata": {},
     "output_type": "execute_result"
    }
   ],
   "source": [
    "def unique():\n",
    "    str = raw_input('please enter your string: ')\n",
    "    str_dict = dict()\n",
    "    for ch in str:\n",
    "        if ch in str_dict:\n",
    "            return False\n",
    "        else:\n",
    "            str_dict[ch] = 1\n",
    "    return True\n",
    "\n",
    "unique()"
   ]
  },
  {
   "cell_type": "code",
   "execution_count": 28,
   "metadata": {},
   "outputs": [
    {
     "name": "stdout",
     "output_type": "stream",
     "text": [
      "please enter your string: hh\n"
     ]
    },
    {
     "data": {
      "text/plain": [
       "False"
      ]
     },
     "execution_count": 28,
     "metadata": {},
     "output_type": "execute_result"
    }
   ],
   "source": [
    "def unique():\n",
    "    str = raw_input('please enter your string: ')\n",
    "    checker = 0\n",
    "    for ch in str:\n",
    "        if checker & (1 << (ord(ch) - ord('a'))) > 0:\n",
    "            return False\n",
    "        else:\n",
    "            checker = checker | (1 << ord(ch) - ord('a'))\n",
    "    return True   \n",
    "unique()"
   ]
  },
  {
   "cell_type": "code",
   "execution_count": null,
   "metadata": {},
   "outputs": [],
   "source": []
  }
 ],
 "metadata": {
  "kernelspec": {
   "display_name": "Python 2",
   "language": "python",
   "name": "python2"
  },
  "language_info": {
   "codemirror_mode": {
    "name": "ipython",
    "version": 2
   },
   "file_extension": ".py",
   "mimetype": "text/x-python",
   "name": "python",
   "nbconvert_exporter": "python",
   "pygments_lexer": "ipython2",
   "version": "2.7.14"
  }
 },
 "nbformat": 4,
 "nbformat_minor": 2
}
