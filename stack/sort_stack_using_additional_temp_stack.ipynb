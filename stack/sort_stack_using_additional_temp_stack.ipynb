{
 "cells": [
  {
   "cell_type": "code",
   "execution_count": 4,
   "metadata": {},
   "outputs": [],
   "source": [
    "class Stack():\n",
    "    def __init__(self):\n",
    "        self.stack_list = list()\n",
    "        \n",
    "    def push(self, element):\n",
    "        self.stack_list.append(element)\n",
    "    \n",
    "    def popp(self):\n",
    "        if (len(self.stack_list)) > 0:\n",
    "            return self.stack_list.pop()\n",
    "            \n",
    "    def top(self):\n",
    "        if (len(self.stack_list)) > 0:\n",
    "            return self.stack_list[-1]\n",
    "    \n",
    "    def isEmpty(self):\n",
    "        return len(self.stack_list) == 0\n",
    "    \n",
    "    def size(self):\n",
    "        return len(self.stack_list)\n",
    "    \n",
    "    def printList(self):\n",
    "        print self.stack_list"
   ]
  },
  {
   "cell_type": "code",
   "execution_count": 5,
   "metadata": {},
   "outputs": [],
   "source": [
    "class sortStack():\n",
    "    def __init__(self):\n",
    "        self.sorted_stack = Stack()\n",
    "        self.temp_stack = Stack()\n",
    "    \n",
    "    def insert_ele(self, ele):\n",
    "        if self.sorted_stack.isEmpty() == True:\n",
    "            self.sorted_stack.push(ele)\n",
    "        elif self.sorted_stack.top() < ele:\n",
    "            while self.sorted_stack.isEmpty() == False and self.sorted_stack.top() < ele:\n",
    "                self.temp_stack.push(self.sorted_stack.popp())\n",
    "            self.sorted_stack.push(ele)\n",
    "            while self.temp_stack.isEmpty() == False:\n",
    "                self.sorted_stack.push(self.temp_stack.popp())\n",
    "        else:\n",
    "            self.sorted_stack.push(ele)\n",
    "    def printStack(self):\n",
    "        self.sorted_stack.printList()\n",
    "        self.temp_stack.printList()"
   ]
  },
  {
   "cell_type": "code",
   "execution_count": null,
   "metadata": {},
   "outputs": [],
   "source": []
  },
  {
   "cell_type": "code",
   "execution_count": 57,
   "metadata": {},
   "outputs": [],
   "source": [
    "s = sortStack()"
   ]
  },
  {
   "cell_type": "code",
   "execution_count": 58,
   "metadata": {},
   "outputs": [],
   "source": [
    "s.insert_ele(5)"
   ]
  },
  {
   "cell_type": "code",
   "execution_count": 59,
   "metadata": {},
   "outputs": [
    {
     "name": "stdout",
     "output_type": "stream",
     "text": [
      "[5]\n",
      "[]\n"
     ]
    }
   ],
   "source": [
    "s.printStack()"
   ]
  },
  {
   "cell_type": "code",
   "execution_count": 60,
   "metadata": {},
   "outputs": [],
   "source": [
    "s.insert_ele(4)"
   ]
  },
  {
   "cell_type": "code",
   "execution_count": 61,
   "metadata": {},
   "outputs": [
    {
     "name": "stdout",
     "output_type": "stream",
     "text": [
      "[5, 4]\n",
      "[]\n"
     ]
    }
   ],
   "source": [
    "s.printStack()"
   ]
  },
  {
   "cell_type": "code",
   "execution_count": 62,
   "metadata": {},
   "outputs": [],
   "source": [
    "s.insert_ele(9)"
   ]
  },
  {
   "cell_type": "code",
   "execution_count": 63,
   "metadata": {},
   "outputs": [
    {
     "name": "stdout",
     "output_type": "stream",
     "text": [
      "[9, 5, 4]\n",
      "[]\n"
     ]
    }
   ],
   "source": [
    "s.printStack()"
   ]
  },
  {
   "cell_type": "code",
   "execution_count": 64,
   "metadata": {},
   "outputs": [],
   "source": [
    "sort = sortStack()"
   ]
  },
  {
   "cell_type": "code",
   "execution_count": 65,
   "metadata": {},
   "outputs": [],
   "source": [
    "sort.insert_ele(5)"
   ]
  },
  {
   "cell_type": "code",
   "execution_count": 66,
   "metadata": {},
   "outputs": [],
   "source": [
    "sort.insert_ele(3)"
   ]
  },
  {
   "cell_type": "code",
   "execution_count": 67,
   "metadata": {},
   "outputs": [],
   "source": [
    "sort.insert_ele(8)"
   ]
  },
  {
   "cell_type": "code",
   "execution_count": 68,
   "metadata": {},
   "outputs": [],
   "source": [
    "sort.insert_ele(10)"
   ]
  },
  {
   "cell_type": "code",
   "execution_count": 69,
   "metadata": {},
   "outputs": [],
   "source": [
    "sort.insert_ele(6)"
   ]
  },
  {
   "cell_type": "code",
   "execution_count": 70,
   "metadata": {},
   "outputs": [],
   "source": [
    "sort.insert_ele(1)"
   ]
  },
  {
   "cell_type": "code",
   "execution_count": 71,
   "metadata": {},
   "outputs": [],
   "source": [
    "sort.insert_ele(10)"
   ]
  },
  {
   "cell_type": "code",
   "execution_count": 72,
   "metadata": {},
   "outputs": [
    {
     "name": "stdout",
     "output_type": "stream",
     "text": [
      "[10, 10, 8, 6, 5, 3, 1]\n",
      "[]\n"
     ]
    }
   ],
   "source": [
    "sort.printStack()"
   ]
  },
  {
   "cell_type": "code",
   "execution_count": 73,
   "metadata": {},
   "outputs": [],
   "source": [
    "sort.insert_ele(1)"
   ]
  },
  {
   "cell_type": "code",
   "execution_count": 74,
   "metadata": {},
   "outputs": [
    {
     "name": "stdout",
     "output_type": "stream",
     "text": [
      "[10, 10, 8, 6, 5, 3, 1, 1]\n",
      "[]\n"
     ]
    }
   ],
   "source": [
    "sort.printStack()"
   ]
  },
  {
   "cell_type": "code",
   "execution_count": null,
   "metadata": {},
   "outputs": [],
   "source": []
  },
  {
   "cell_type": "code",
   "execution_count": 6,
   "metadata": {},
   "outputs": [],
   "source": [
    "my = sortStack()"
   ]
  },
  {
   "cell_type": "code",
   "execution_count": 8,
   "metadata": {},
   "outputs": [],
   "source": [
    "my.insert_ele(9)"
   ]
  },
  {
   "cell_type": "code",
   "execution_count": 9,
   "metadata": {},
   "outputs": [],
   "source": [
    "my.insert_ele(1)\n",
    "my.insert_ele(632)\n",
    "my.insert_ele(56)\n",
    "my.insert_ele(145)\n",
    "my.insert_ele(6)\n",
    "my.insert_ele(9)\n",
    "my.insert_ele(-10)\n",
    "my.insert_ele(0)\n",
    "\n"
   ]
  },
  {
   "cell_type": "code",
   "execution_count": 10,
   "metadata": {},
   "outputs": [
    {
     "name": "stdout",
     "output_type": "stream",
     "text": [
      "[632, 145, 56, 9, 9, 6, 1, 0, -10]\n",
      "[]\n"
     ]
    }
   ],
   "source": [
    "my.printStack()"
   ]
  },
  {
   "cell_type": "code",
   "execution_count": null,
   "metadata": {},
   "outputs": [],
   "source": []
  }
 ],
 "metadata": {
  "kernelspec": {
   "display_name": "Python 2",
   "language": "python",
   "name": "python2"
  },
  "language_info": {
   "codemirror_mode": {
    "name": "ipython",
    "version": 2
   },
   "file_extension": ".py",
   "mimetype": "text/x-python",
   "name": "python",
   "nbconvert_exporter": "python",
   "pygments_lexer": "ipython2",
   "version": "2.7.14"
  }
 },
 "nbformat": 4,
 "nbformat_minor": 2
}
