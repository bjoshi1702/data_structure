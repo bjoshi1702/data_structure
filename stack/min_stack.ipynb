{
 "cells": [
  {
   "cell_type": "code",
   "execution_count": 1,
   "metadata": {},
   "outputs": [],
   "source": [
    "class sstack:\n",
    "    def __init__(self):\n",
    "        self.stack_list = list()\n",
    "        self.min_list = list()\n",
    "        \n",
    "    def push(self, ele):\n",
    "        if self.size() == 0:\n",
    "            self.min_list.append(ele)\n",
    "        elif self.min_list[-1] >= ele:\n",
    "            self.min_list.append(ele)\n",
    "        self.stack_list.append(ele)\n",
    "    def pop(self):\n",
    "        if len(self.stack_list) > 0:\n",
    "            if self.stack_list[-1] == self.min_list[-1]:\n",
    "                del self.stack_list[-1]\n",
    "                del self.min_list[-1]\n",
    "            else:\n",
    "                del self.stack_list[-1]\n",
    "            \n",
    "            \n",
    "    def isEmpty(self):\n",
    "        return False if len(self.stack_list) > 0 else True\n",
    "    \n",
    "    def top(self):\n",
    "        if len(self.stack_list) > 0:\n",
    "            return self.stack_list[-1]\n",
    "        \n",
    "    def size(self):\n",
    "        return len(self.stack_list)\n",
    "    \n",
    "    def printMe(self):\n",
    "        print self.stack_list \n",
    "        print self.min_list\n",
    "    \n",
    "    def find_min(self):\n",
    "        return self.min_list[-1]\n",
    "        "
   ]
  },
  {
   "cell_type": "code",
   "execution_count": 2,
   "metadata": {},
   "outputs": [],
   "source": [
    "ss = sstack()"
   ]
  },
  {
   "cell_type": "code",
   "execution_count": 3,
   "metadata": {},
   "outputs": [
    {
     "name": "stdout",
     "output_type": "stream",
     "text": [
      "[3, 6, 5, 8, 1, 1]\n",
      "[3, 1, 1]\n"
     ]
    }
   ],
   "source": [
    "ss.push(3)\n",
    "ss.push(6)\n",
    "ss.push(5)\n",
    "ss.push(8)\n",
    "ss.push(1)\n",
    "ss.push(1)\n",
    "ss.printMe()"
   ]
  },
  {
   "cell_type": "code",
   "execution_count": 4,
   "metadata": {},
   "outputs": [
    {
     "data": {
      "text/plain": [
       "1"
      ]
     },
     "execution_count": 4,
     "metadata": {},
     "output_type": "execute_result"
    }
   ],
   "source": [
    "ss.find_min()"
   ]
  },
  {
   "cell_type": "code",
   "execution_count": 5,
   "metadata": {},
   "outputs": [],
   "source": [
    "ss.pop()"
   ]
  },
  {
   "cell_type": "code",
   "execution_count": 6,
   "metadata": {},
   "outputs": [
    {
     "data": {
      "text/plain": [
       "1"
      ]
     },
     "execution_count": 6,
     "metadata": {},
     "output_type": "execute_result"
    }
   ],
   "source": [
    "ss.find_min()"
   ]
  },
  {
   "cell_type": "code",
   "execution_count": 7,
   "metadata": {},
   "outputs": [
    {
     "name": "stdout",
     "output_type": "stream",
     "text": [
      "[3, 6, 5, 8, 1]\n",
      "[3, 1]\n"
     ]
    }
   ],
   "source": [
    "ss.printMe()\n"
   ]
  },
  {
   "cell_type": "code",
   "execution_count": 8,
   "metadata": {},
   "outputs": [
    {
     "data": {
      "text/plain": [
       "1"
      ]
     },
     "execution_count": 8,
     "metadata": {},
     "output_type": "execute_result"
    }
   ],
   "source": [
    "ss.find_min()"
   ]
  },
  {
   "cell_type": "code",
   "execution_count": 4,
   "metadata": {},
   "outputs": [],
   "source": [
    "class Stack():\n",
    "    def __init__(self):\n",
    "        self.stack_list = list()\n",
    "    def push(self, element):\n",
    "        self.stack_list.append(element)\n",
    "    \n",
    "    def pop(self):\n",
    "        if (len(self.stack_list)) > 0:\n",
    "            del self.stack_list[-1]\n",
    "    \n",
    "    def top(self):\n",
    "        if (len(self.stack_list)) > 0:\n",
    "            return self.stack_list[-1]\n",
    "    \n",
    "    def isEmpty(self):\n",
    "        return len(self.stack_list) == 0\n",
    "    \n",
    "    def size(self):\n",
    "        return len(self.stack_list)\n",
    "    def printList(self):\n",
    "        print self.stack_list"
   ]
  },
  {
   "cell_type": "code",
   "execution_count": 10,
   "metadata": {},
   "outputs": [],
   "source": [
    "class min_Stack:\n",
    "    def __init__(self):\n",
    "        self.data = Stack()\n",
    "        print self.data\n",
    "        self.min_val = Stack()\n",
    "        \n",
    "    def insert(self, val):\n",
    "        self.data.push(val)\n",
    "        if self.min_val.size() == 0:\n",
    "            self.min_val.push(val)\n",
    "        elif self.min_val.top() >= val:\n",
    "            self.min_val.push(val)\n",
    "    def remove(self):\n",
    "        if self.min_val.top() == self.data.top():\n",
    "            self.min_val.pop()\n",
    "        self.data.pop()\n",
    "            \n",
    "    def min_value(self):\n",
    "        self.min_val.printList()\n",
    "        return self.min_val.top()"
   ]
  },
  {
   "cell_type": "code",
   "execution_count": 11,
   "metadata": {},
   "outputs": [
    {
     "name": "stdout",
     "output_type": "stream",
     "text": [
      "<__main__.Stack instance at 0x110ddf200>\n"
     ]
    }
   ],
   "source": [
    "m = min_Stack()"
   ]
  },
  {
   "cell_type": "code",
   "execution_count": 12,
   "metadata": {},
   "outputs": [
    {
     "name": "stdout",
     "output_type": "stream",
     "text": [
      "[10, 6, 5, 1, 1]\n"
     ]
    },
    {
     "data": {
      "text/plain": [
       "1"
      ]
     },
     "execution_count": 12,
     "metadata": {},
     "output_type": "execute_result"
    }
   ],
   "source": [
    "m.insert(10)\n",
    "m.insert(6)\n",
    "m.insert(5)\n",
    "m.insert(8)\n",
    "m.insert(1)\n",
    "m.insert(1)\n",
    "m.min_value()"
   ]
  },
  {
   "cell_type": "code",
   "execution_count": 13,
   "metadata": {},
   "outputs": [],
   "source": [
    "m.remove()"
   ]
  },
  {
   "cell_type": "code",
   "execution_count": 14,
   "metadata": {},
   "outputs": [
    {
     "name": "stdout",
     "output_type": "stream",
     "text": [
      "[10, 6, 5, 1]\n"
     ]
    },
    {
     "data": {
      "text/plain": [
       "1"
      ]
     },
     "execution_count": 14,
     "metadata": {},
     "output_type": "execute_result"
    }
   ],
   "source": [
    "m.min_value()"
   ]
  },
  {
   "cell_type": "code",
   "execution_count": 15,
   "metadata": {},
   "outputs": [],
   "source": [
    "m.remove()"
   ]
  },
  {
   "cell_type": "code",
   "execution_count": 16,
   "metadata": {},
   "outputs": [
    {
     "name": "stdout",
     "output_type": "stream",
     "text": [
      "[10, 6, 5]\n"
     ]
    },
    {
     "data": {
      "text/plain": [
       "5"
      ]
     },
     "execution_count": 16,
     "metadata": {},
     "output_type": "execute_result"
    }
   ],
   "source": [
    "m.min_value()"
   ]
  },
  {
   "cell_type": "code",
   "execution_count": 1,
   "metadata": {},
   "outputs": [],
   "source": [
    "a = 5"
   ]
  },
  {
   "cell_type": "code",
   "execution_count": 2,
   "metadata": {},
   "outputs": [
    {
     "data": {
      "text/plain": [
       "5"
      ]
     },
     "execution_count": 2,
     "metadata": {},
     "output_type": "execute_result"
    }
   ],
   "source": [
    "a"
   ]
  },
  {
   "cell_type": "code",
   "execution_count": 5,
   "metadata": {},
   "outputs": [],
   "source": [
    "s = Stack()"
   ]
  },
  {
   "cell_type": "code",
   "execution_count": 6,
   "metadata": {},
   "outputs": [
    {
     "data": {
      "text/plain": [
       "<__main__.Stack instance at 0x110d80908>"
      ]
     },
     "execution_count": 6,
     "metadata": {},
     "output_type": "execute_result"
    }
   ],
   "source": [
    "s"
   ]
  },
  {
   "cell_type": "code",
   "execution_count": 7,
   "metadata": {},
   "outputs": [],
   "source": [
    "d = Stack()"
   ]
  },
  {
   "cell_type": "code",
   "execution_count": 8,
   "metadata": {},
   "outputs": [
    {
     "data": {
      "text/plain": [
       "<__main__.Stack instance at 0x110d12998>"
      ]
     },
     "execution_count": 8,
     "metadata": {},
     "output_type": "execute_result"
    }
   ],
   "source": [
    "d"
   ]
  },
  {
   "cell_type": "code",
   "execution_count": 9,
   "metadata": {},
   "outputs": [
    {
     "data": {
      "text/plain": [
       "[]"
      ]
     },
     "execution_count": 9,
     "metadata": {},
     "output_type": "execute_result"
    }
   ],
   "source": [
    "s.stack_list"
   ]
  },
  {
   "cell_type": "code",
   "execution_count": null,
   "metadata": {},
   "outputs": [],
   "source": []
  },
  {
   "cell_type": "code",
   "execution_count": null,
   "metadata": {},
   "outputs": [],
   "source": []
  }
 ],
 "metadata": {
  "kernelspec": {
   "display_name": "Python 2",
   "language": "python",
   "name": "python2"
  },
  "language_info": {
   "codemirror_mode": {
    "name": "ipython",
    "version": 2
   },
   "file_extension": ".py",
   "mimetype": "text/x-python",
   "name": "python",
   "nbconvert_exporter": "python",
   "pygments_lexer": "ipython2",
   "version": "2.7.14"
  }
 },
 "nbformat": 4,
 "nbformat_minor": 2
}
