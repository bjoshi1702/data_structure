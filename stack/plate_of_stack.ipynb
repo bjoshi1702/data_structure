{
 "cells": [
  {
   "cell_type": "code",
   "execution_count": 203,
   "metadata": {},
   "outputs": [],
   "source": [
    "class Stack():\n",
    "    def __init__(self):\n",
    "        self.stack_list = list()\n",
    "        \n",
    "    def push(self, element):\n",
    "        self.stack_list.append(element)\n",
    "    \n",
    "    def pop(self):\n",
    "        if (len(self.stack_list)) > 0:\n",
    "            del self.stack_list[-1]\n",
    "    \n",
    "    def top(self):\n",
    "        if (len(self.stack_list)) > 0:\n",
    "            return self.stack_list[-1]\n",
    "    \n",
    "    def isEmpty(self):\n",
    "        return len(self.stack_list) == 0\n",
    "    \n",
    "    def size(self):\n",
    "        return len(self.stack_list)\n",
    "    \n",
    "    def printList(self):\n",
    "        print self.stack_list     "
   ]
  },
  {
   "cell_type": "code",
   "execution_count": 299,
   "metadata": {},
   "outputs": [],
   "source": [
    "class Array_stack():\n",
    "    def __init__(self):\n",
    "        self.array = list()\n",
    "        current_instace_stack = Stack()\n",
    "        self.array.append(current_instace_stack)\n",
    "        self.current_stack = self.array[0]\n",
    "        \n",
    "    def insert_ele(self, ele):  \n",
    "        if self.current_stack.size() == 5:\n",
    "            new_stack_instace = Stack()\n",
    "            self.array.append(new_stack_instace)\n",
    "            self.current_stack = self.array[-1]\n",
    "        self.current_stack.push(ele)\n",
    "    \n",
    "    def delete_ele(self):\n",
    "        if len(self.array) == 1 and self.array[0].size() == 0:\n",
    "            print 'No elements available to delete'\n",
    "            return\n",
    "        \n",
    "        if self.current_stack.size() == 0:\n",
    "            del self.array[-1]\n",
    "            self.current_stack = self.array[-1]\n",
    "        self.current_stack.pop()  \n",
    "        \n",
    "    def print_all_stack(self):\n",
    "        for index in range(len(self.array)):\n",
    "            print \"stack number\" + str(index)\n",
    "            print self.array[index].printList()\n",
    "            \n",
    "    def del_stack_ele(self, index):\n",
    "        print len(self.array)\n",
    "        if len(self.array) == 1 and self.array[0].size() == 0:\n",
    "            print 'no stacks available to delete element' \n",
    "        elif index >= len(self.array):\n",
    "            print 'stack with ' + str(index) + 'is not available'\n",
    "        else:\n",
    "            self.array[index].pop()\n",
    "            if self.array[index].size() == 0:\n",
    "                del self.array[index]"
   ]
  },
  {
   "cell_type": "code",
   "execution_count": 300,
   "metadata": {},
   "outputs": [],
   "source": [
    "b = Array_stack()"
   ]
  },
  {
   "cell_type": "code",
   "execution_count": 301,
   "metadata": {},
   "outputs": [],
   "source": [
    "b.insert_ele(1)\n",
    "b.insert_ele(2)\n",
    "b.insert_ele(3)\n",
    "b.insert_ele(4)\n",
    "b.insert_ele(5)\n",
    "b.insert_ele(6)"
   ]
  },
  {
   "cell_type": "code",
   "execution_count": 302,
   "metadata": {},
   "outputs": [
    {
     "name": "stdout",
     "output_type": "stream",
     "text": [
      "stack number0\n",
      "[1, 2, 3, 4, 5]\n",
      "None\n",
      "stack number1\n",
      "[6]\n",
      "None\n"
     ]
    }
   ],
   "source": [
    "b.print_all_stack()"
   ]
  },
  {
   "cell_type": "code",
   "execution_count": 303,
   "metadata": {},
   "outputs": [
    {
     "name": "stdout",
     "output_type": "stream",
     "text": [
      "2\n"
     ]
    }
   ],
   "source": [
    "b.del_stack_ele(1)"
   ]
  },
  {
   "cell_type": "code",
   "execution_count": 304,
   "metadata": {},
   "outputs": [
    {
     "name": "stdout",
     "output_type": "stream",
     "text": [
      "stack number0\n",
      "[1, 2, 3, 4, 5]\n",
      "None\n"
     ]
    }
   ],
   "source": [
    "b.print_all_stack()"
   ]
  },
  {
   "cell_type": "code",
   "execution_count": 305,
   "metadata": {},
   "outputs": [
    {
     "name": "stdout",
     "output_type": "stream",
     "text": [
      "1\n",
      "stack with 1is not available\n"
     ]
    }
   ],
   "source": [
    "b.del_stack_ele(1)"
   ]
  },
  {
   "cell_type": "code",
   "execution_count": 298,
   "metadata": {},
   "outputs": [
    {
     "name": "stdout",
     "output_type": "stream",
     "text": [
      "stack number0\n",
      "[1, 2, 3, 4, 5]\n",
      "None\n"
     ]
    }
   ],
   "source": [
    "b.print_all_stack()"
   ]
  },
  {
   "cell_type": "code",
   "execution_count": null,
   "metadata": {},
   "outputs": [],
   "source": []
  }
 ],
 "metadata": {
  "kernelspec": {
   "display_name": "Python 2",
   "language": "python",
   "name": "python2"
  },
  "language_info": {
   "codemirror_mode": {
    "name": "ipython",
    "version": 2
   },
   "file_extension": ".py",
   "mimetype": "text/x-python",
   "name": "python",
   "nbconvert_exporter": "python",
   "pygments_lexer": "ipython2",
   "version": "2.7.14"
  }
 },
 "nbformat": 4,
 "nbformat_minor": 2
}
