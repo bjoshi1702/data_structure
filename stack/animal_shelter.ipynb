{
 "cells": [
  {
   "cell_type": "code",
   "execution_count": 6,
   "metadata": {},
   "outputs": [],
   "source": [
    "class Stack():\n",
    "    def __init__(self):\n",
    "        self.stack_list = list()\n",
    "        \n",
    "    def push(self, element):\n",
    "        self.stack_list.append(element)\n",
    "    \n",
    "    def popp(self):\n",
    "        if (len(self.stack_list)) > 0:\n",
    "            return self.stack_list.pop()\n",
    "            \n",
    "    def top(self):\n",
    "        if (len(self.stack_list)) > 0:\n",
    "            return self.stack_list[-1]\n",
    "    \n",
    "    def isEmpty(self):\n",
    "        return len(self.stack_list) == 0\n",
    "    \n",
    "    def size(self):\n",
    "        return len(self.stack_list)\n",
    "    \n",
    "    def printList(self):\n",
    "        print self.stack_list"
   ]
  },
  {
   "cell_type": "code",
   "execution_count": 7,
   "metadata": {},
   "outputs": [],
   "source": [
    "class animal_shelter():\n",
    "    def __init__(self):\n",
    "        self.animal_stack = Stack()\n",
    "        self.temp_dog = Stack()\n",
    "        self.temp_cat = Stack()\n",
    "        \n",
    "    def enqueue(self, ele):\n",
    "        if ele == 'dog':\n",
    "            self.dog_stack.push(ele)\n",
    "        else:\n",
    "            self.cat_stack.push(ele)\n",
    "        \n",
    "    def dequeue_cat(self):\n",
    "        if self.cat_stack.isEmpty() == True and self.temp_cat.isEmpty() == True:\n",
    "            print 'no cat is there to dequeue'\n",
    "        else:\n",
    "            if self.temp_cat.isEmpty() == True:\n",
    "                while self.cat_stack.isEmpty() == False:\n",
    "                    self.temp_cat.push(self.cat_stack.popp())\n",
    "            self.temp_cat.popp()"
   ]
  },
  {
   "cell_type": "code",
   "execution_count": 4,
   "metadata": {},
   "outputs": [],
   "source": [
    "a = animal_shelter()"
   ]
  },
  {
   "cell_type": "code",
   "execution_count": 5,
   "metadata": {},
   "outputs": [],
   "source": [
    "a.enqueue('dog1')"
   ]
  },
  {
   "cell_type": "code",
   "execution_count": null,
   "metadata": {},
   "outputs": [],
   "source": []
  }
 ],
 "metadata": {
  "kernelspec": {
   "display_name": "Python 2",
   "language": "python",
   "name": "python2"
  },
  "language_info": {
   "codemirror_mode": {
    "name": "ipython",
    "version": 2
   },
   "file_extension": ".py",
   "mimetype": "text/x-python",
   "name": "python",
   "nbconvert_exporter": "python",
   "pygments_lexer": "ipython2",
   "version": "2.7.14"
  }
 },
 "nbformat": 4,
 "nbformat_minor": 2
}
