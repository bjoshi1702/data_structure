{
 "cells": [
  {
   "cell_type": "code",
   "execution_count": 20,
   "metadata": {},
   "outputs": [],
   "source": [
    "class stack:\n",
    "    def __init__(self):\n",
    "        self.stack_list = [None] * 30\n",
    "        self.index1 = 0\n",
    "        self.index2 = 10\n",
    "        self.index3 = 20\n",
    "    def insert(self, ele, stack_no):\n",
    "        if stack_no == 1:\n",
    "            self.stack_list[self.index1] = ele\n",
    "            self.index1 += 1\n",
    "        elif stack_no == 2:\n",
    "            self.stack_list[self.index2] = ele\n",
    "            self.index2 += 1\n",
    "        elif stack_no == 3:\n",
    "            self.stack_list[self.index3] = ele\n",
    "            self.index3 += 1\n",
    "        else:\n",
    "            print 'please enter valid stack number'\n",
    "    \n",
    "    def pop(self, stack_no):\n",
    "        if stack_no == 1:\n",
    "            self.index1 -= 1\n",
    "            self.stack_list[self.index1] = None\n",
    "        elif stack_no == 2:\n",
    "            self.index2 -= 1\n",
    "            self.stack_list[self.index2] = None\n",
    "        elif stack_no == 3:\n",
    "            self.index3 -= 1\n",
    "            self.stack_list[self.index3] = None\n",
    "    \n",
    "    def printMe(self):\n",
    "        print self.stack_list"
   ]
  },
  {
   "cell_type": "code",
   "execution_count": 21,
   "metadata": {},
   "outputs": [
    {
     "name": "stdout",
     "output_type": "stream",
     "text": [
      "[None, None, None, None, None, None, None, None, None, None, None, None, None, None, None, None, None, None, None, None, None, None, None, None, None, None, None, None, None, None]\n"
     ]
    }
   ],
   "source": [
    "s = stack()\n",
    "s.printMe()"
   ]
  },
  {
   "cell_type": "code",
   "execution_count": 22,
   "metadata": {},
   "outputs": [],
   "source": [
    "s.insert(2, 1)\n",
    "s.insert(4, 2)\n",
    "s.insert(5, 3)"
   ]
  },
  {
   "cell_type": "code",
   "execution_count": 23,
   "metadata": {},
   "outputs": [
    {
     "name": "stdout",
     "output_type": "stream",
     "text": [
      "[2, None, None, None, None, None, None, None, None, None, 4, None, None, None, None, None, None, None, None, None, 5, None, None, None, None, None, None, None, None, None]\n"
     ]
    }
   ],
   "source": [
    "s.printMe()"
   ]
  },
  {
   "cell_type": "code",
   "execution_count": 24,
   "metadata": {},
   "outputs": [],
   "source": [
    "s.insert(12, 1)\n",
    "s.insert(24, 2)\n",
    "s.insert(65, 3)\n",
    "s.insert(52, 1)\n",
    "s.insert(74, 2)\n",
    "s.insert(55, 3)\n",
    "s.insert(662, 1)\n",
    "s.insert(664, 2)\n",
    "s.insert(665, 3)"
   ]
  },
  {
   "cell_type": "code",
   "execution_count": 25,
   "metadata": {},
   "outputs": [
    {
     "name": "stdout",
     "output_type": "stream",
     "text": [
      "[2, 12, 52, 662, None, None, None, None, None, None, 4, 24, 74, 664, None, None, None, None, None, None, 5, 65, 55, 665, None, None, None, None, None, None]\n"
     ]
    }
   ],
   "source": [
    "s.printMe()"
   ]
  },
  {
   "cell_type": "code",
   "execution_count": 26,
   "metadata": {},
   "outputs": [
    {
     "name": "stdout",
     "output_type": "stream",
     "text": [
      "[2, 12, 52, None, None, None, None, None, None, None, 4, 24, 74, None, None, None, None, None, None, None, 5, 65, 55, None, None, None, None, None, None, None]\n"
     ]
    }
   ],
   "source": [
    "s.pop(1)\n",
    "s.pop(2)\n",
    "s.pop(3)\n",
    "s.printMe()"
   ]
  },
  {
   "cell_type": "code",
   "execution_count": null,
   "metadata": {},
   "outputs": [],
   "source": []
  }
 ],
 "metadata": {
  "kernelspec": {
   "display_name": "Python 2",
   "language": "python",
   "name": "python2"
  },
  "language_info": {
   "codemirror_mode": {
    "name": "ipython",
    "version": 2
   },
   "file_extension": ".py",
   "mimetype": "text/x-python",
   "name": "python",
   "nbconvert_exporter": "python",
   "pygments_lexer": "ipython2",
   "version": "2.7.14"
  }
 },
 "nbformat": 4,
 "nbformat_minor": 2
}
